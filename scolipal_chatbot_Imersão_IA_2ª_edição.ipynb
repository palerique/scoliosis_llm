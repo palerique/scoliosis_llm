{
  "nbformat": 4,
  "nbformat_minor": 0,
  "metadata": {
    "colab": {
      "provenance": [],
      "authorship_tag": "ABX9TyPxg4yuqX2lRcZHThclAbqy",
      "include_colab_link": true
    },
    "kernelspec": {
      "name": "python3",
      "display_name": "Python 3"
    },
    "language_info": {
      "name": "python"
    }
  },
  "cells": [
    {
      "cell_type": "markdown",
      "metadata": {
        "id": "view-in-github",
        "colab_type": "text"
      },
      "source": [
        "<a href=\"https://colab.research.google.com/github/palerique/scoliosis_llm/blob/main/scolipal_chatbot_Imersa%CC%83o_IA_2%C2%AA_edic%CC%A7a%CC%83o.ipynb\" target=\"_parent\"><img src=\"https://colab.research.google.com/assets/colab-badge.svg\" alt=\"Open In Colab\"/></a>"
      ]
    },
    {
      "cell_type": "markdown",
      "source": [
        "# ScoliPal"
      ],
      "metadata": {
        "id": "B97zjgCRTDRF"
      }
    },
    {
      "cell_type": "markdown",
      "source": [
        "## Um Raio de Esperança: A Jornada de um Pai na Luta Contra a Escoliose\n",
        "\n",
        "**Um pai na luta contra a escoliose**\n",
        "\n",
        "A vida de um pai se transforma quando recebe o diagnóstico de escoliose em sua filha.\n",
        "Inseguranças, medos e a busca incessante por informações dominam seus pensamentos. Foi movido por essa dor e pela\n",
        "vontade de ajudar outras famílias que criei o **ScoliPal**.\n",
        "\n",
        "Minha filha primogênita foi diagnosticada com escoliose. Testemunhei de perto como essa condição\n",
        "pode afetar a autoestima e o desenvolvimento de uma criança. Vi também o sofrimento dos pais, muitas vezes sem saber\n",
        "como interpretar exames e entender as explicações médicas.\n",
        "\n",
        "Cada raio-x se tornava uma batalha, horas decifrando imagens em busca de respostas. Foi nessa busca por clareza que me\n",
        "tornei um estudioso da escoliose, buscando formas de auxiliar outras famílias. Nasceu então o **ScoliPal**, um farol de\n",
        "esperança em meio à tempestade.\n",
        "\n",
        "O **ScoliPal** é mais do que um chatbot. É um canal de apoio, um espaço onde pais e pacientes podem encontrar\n",
        "informações confiáveis, tirar dúvidas e até mesmo realizar análises de imagens de raio-x. Através da inteligência\n",
        "artificial, o **ScoliPal** oferece suporte 24 horas por dia, 7 dias por semana, democratizando o acesso à informação e\n",
        "diminuindo o sofrimento causado pela escoliose.\n",
        "\n",
        "É importante ressaltar que o **ScoliPal** não substitui a consulta médica. Ele serve como um complemento, uma ferramenta\n",
        "que auxilia na jornada contra a escoliose.\n",
        "\n",
        "Juntos, podemos construir um futuro mais brilhante para as crianças e adolescentes com escoliose.\n",
        "\n",
        "**Um abraço,**\n",
        "\n",
        "**Um pai na luta contra a escoliose**"
      ],
      "metadata": {
        "id": "p9KYdbuPTU8K"
      }
    },
    {
      "cell_type": "markdown",
      "source": [
        "# ScoliPal Code"
      ],
      "metadata": {
        "id": "klrw17g1TO9p"
      }
    },
    {
      "cell_type": "code",
      "execution_count": 1,
      "metadata": {
        "id": "nFQLKQ6hfXch",
        "cellView": "form"
      },
      "outputs": [],
      "source": [
        "# @title\n",
        "#Instalando o SDK do Google\n",
        "!pip install -q -U google-generativeai"
      ]
    },
    {
      "cell_type": "code",
      "execution_count": 2,
      "metadata": {
        "id": "IthzwfnAfcsi",
        "cellView": "form"
      },
      "outputs": [],
      "source": [
        "# @title\n",
        "#Configurações iniciais\n",
        "from google.colab import userdata\n",
        "import google.generativeai as genai\n",
        "\n",
        "genai.configure(api_key=userdata.get('GEMINI_API_KEY'))"
      ]
    },
    {
      "cell_type": "code",
      "execution_count": 4,
      "metadata": {
        "id": "O1ochaeyDn_o",
        "cellView": "form"
      },
      "outputs": [],
      "source": [
        "# @title\n",
        "# Set up the model\n",
        "generation_config = {\n",
        "  \"temperature\": 1,\n",
        "  \"top_p\": 0.95,\n",
        "  \"top_k\": 0,\n",
        "  \"max_output_tokens\": 8192,\n",
        "}"
      ]
    },
    {
      "cell_type": "code",
      "execution_count": 5,
      "metadata": {
        "id": "jwBv7DofDofw",
        "cellView": "form"
      },
      "outputs": [],
      "source": [
        "# @title\n",
        "safety_settings = [\n",
        "  {\n",
        "    \"category\": \"HARM_CATEGORY_HARASSMENT\",\n",
        "    \"threshold\": \"BLOCK_MEDIUM_AND_ABOVE\"\n",
        "  },\n",
        "  {\n",
        "    \"category\": \"HARM_CATEGORY_HATE_SPEECH\",\n",
        "    \"threshold\": \"BLOCK_MEDIUM_AND_ABOVE\"\n",
        "  },\n",
        "  {\n",
        "    \"category\": \"HARM_CATEGORY_SEXUALLY_EXPLICIT\",\n",
        "    \"threshold\": \"BLOCK_MEDIUM_AND_ABOVE\"\n",
        "  },\n",
        "  {\n",
        "    \"category\": \"HARM_CATEGORY_DANGEROUS_CONTENT\",\n",
        "    \"threshold\": \"BLOCK_MEDIUM_AND_ABOVE\"\n",
        "  },\n",
        "]"
      ]
    },
    {
      "cell_type": "code",
      "execution_count": 6,
      "metadata": {
        "id": "NIiSs1R5mVJE",
        "cellView": "form"
      },
      "outputs": [],
      "source": [
        "# @title\n",
        "model = genai.GenerativeModel(model_name=\"gemini-1.5-pro-latest\",\n",
        "                              generation_config=generation_config,\n",
        "                              safety_settings=safety_settings)"
      ]
    },
    {
      "cell_type": "code",
      "execution_count": null,
      "metadata": {
        "id": "KpaQ6hm5f2_J",
        "cellView": "form"
      },
      "outputs": [],
      "source": [
        "# @title\n",
        "# Instruindo o chatbot para prepara-lo para assistir ao usuario.\n",
        "chat = model.start_chat(history=[\n",
        "      {\n",
        "        \"role\": \"user\",\n",
        "        \"parts\": [\"\"\"\n",
        "        Objetivo: Acolher, informar e empoderar pais e pacientes na jornada contra a escoliose, oferecendo suporte abrangente que inclui:\n",
        "\n",
        "Informações confiáveis sobre tratamentos: Detalhes sobre os diferentes tipos de tratamento, seus benefícios, riscos e expectativas, com base em evidências científicas e linguagem acessível.\n",
        "Orientação sobre cuidados especiais: Dicas para o dia a dia, incluindo ergonomia, higiene postural, atividades físicas adequadas e adaptações na rotina para promover o bem-estar físico e emocional.\n",
        "Análise de imagens de raio-x: Descrição detalhada dos exames por um profissional de saúde qualificado, destacando os pontos importantes e esclarecendo dúvidas dos usuários.\n",
        "Suporte emocional para pais e filhos: Orientação para lidar com os desafios emocionais da escoliose, incluindo comunicação eficaz, desenvolvimento de estratégias de enfrentamento, promoção de um ambiente familiar positivo e acesso a recursos de apoio psicológico.\n",
        "Fortalecimento do vínculo familiar: Dicas para fortalecer a relação entre pais e filhos, transmitir mensagens inspiradoras e incentivar a prática de atividades que promovam o bem-estar conjunto.\n",
        "Tom: Empático, acolhedor, informativo, profissional, inspirador e empoderador.\n",
        "\n",
        "Personagem: Um pai experiente que superou a escoliose com sua filha e se tornou um estudioso da doença, além de um profissional de saúde qualificado para analisar imagens de raio-x e um especialista em desenvolvimento infantil e psicologia.\n",
        "\n",
        "Exemplos de respostas:\n",
        "\n",
        "**\"Sei que o diagnóstico de escoliose pode ser assustador, mas você não está sozinho. Estou aqui para te acompanhar nessa jornada e te fornecer as informações e o apoio necessários para superar os desafios da escoliose.\"\n",
        "**\"Existem diversos tratamentos eficazes para a escoliose, e juntos vamos encontrar o melhor para o seu filho. Explicarei detalhadamente cada opção, seus benefícios e riscos, para que você possa tomar uma decisão consciente com base nas necessidades do seu filho.\"\n",
        "**\"A escoliose não precisa ser um obstáculo para uma vida plena e feliz. Com os cuidados e acompanhamento adequados, seu filho poderá praticar atividades físicas, ter uma vida social ativa e alcançar seus sonhos.\"\n",
        "**\"É importante compreender os sentimentos do seu filho e oferecer apoio emocional durante todo o processo. O ScoliPal te ajuda a identificar os sinais de tristeza e frustração, desenvolver estratégias de comunicação eficazes e criar um ambiente familiar positivo e acolhedor.\"\n",
        "**\"Lembre-se que você é a principal fonte de força para seu filho. Sua positividade e amor serão essenciais para que ele supere os desafios da escoliose. O ScoliPal te oferece dicas para fortalecer o vínculo com seu filho, transmitir mensagens inspiradoras e incentivar a prática de atividades que promovam o bem-estar físico e emocional.\"\n",
        "Recursos adicionais:\n",
        "\n",
        "Links para sites confiáveis de instituições de saúde renomadas e grupos de apoio para escoliose.\n",
        "Materiais informativos sobre a escoliose em linguagem acessível para pais e crianças.\n",
        "Contato com profissionais de saúde especializados em escoliose para tirar dúvidas e obter orientação individualizada.\n",
        "Observação:\n",
        "\n",
        "O ScoliPal é uma ferramenta complementar e não substitui a consulta médica ou psicológica.\n",
        "É importante buscar orientação profissional especializada para o diagnóstico preciso da escoliose e o desenvolvimento de um plano de tratamento individualizado.\n",
        "O ScoliPal está em constante aprimoramento, com o objetivo de oferecer o melhor suporte possível para pais e pacientes na jornada contra a escoliose.\n",
        "        \"\"\"]\n",
        "      },\n",
        "])"
      ]
    },
    {
      "cell_type": "code",
      "source": [
        "# @title\n",
        "import pandas as pd\n",
        "\n",
        "# Set initial and maximum retry delays\n",
        "initial_delay = 10  # seconds\n",
        "max_delay = 120  # seconds\n",
        "\n",
        "# Set the maximum number of retries\n",
        "max_retries = 10\n",
        "\n",
        "pd.set_option('display.max_colwidth', None)\n"
      ],
      "metadata": {
        "cellView": "form",
        "id": "9SKiDqZMPl1e"
      },
      "execution_count": 23,
      "outputs": []
    },
    {
      "cell_type": "code",
      "source": [
        "from IPython.display import display, Markdown, Image\n",
        "from google.colab import files\n",
        "import google.generativeai as genai\n",
        "import pandas as pd\n",
        "import time\n",
        "import json\n",
        "\n",
        "#Loop de interacao do chatbot\n",
        "prompt = input('Faça uma pergunta para o ScoliPal (ou digite \"imagem\" para enviar um Raio-X): ')\n",
        "\n",
        "while prompt != \"fim\" and prompt != \"não\":\n",
        "\n",
        "  if prompt == \"imagem\":\n",
        "    uploaded = files.upload()\n",
        "    for filename, content in uploaded.items():\n",
        "      # Upload the image to the generative API\n",
        "      sample_file = genai.upload_file(path=filename, display_name=filename)\n",
        "      for retry in range(max_retries):\n",
        "        try:\n",
        "            # Describe the image\n",
        "            response = model.generate_content([\"\"\"\n",
        "            Prepare um JSON respondendo às seguintes perguntas sobre a imagem recebida:\n",
        "              Descreva a imagem com uma descrição médica, mas simples e compreensível. Uma pessoa comum deve ser capaz de entendê-la.\n",
        "              Qual a probabilidade da imagem ser um raio-x da coluna vertebral, em uma escala de 0 a 100%?\n",
        "              Qual a probabilidade da imagem mostrar que alguém tem escoliose, em uma escala de 0 a 100%?\n",
        "              Quais são os ângulos de Cobb da coluna vertebral na imagem?\"\"\", sample_file])\n",
        "            # Pull out the content enclosed within the markdown backticks and remove the 'json' text\n",
        "            data_str = response.text.split('```')[1].strip().replace('json', '', 1)\n",
        "            # Parse the string to a dict\n",
        "            data = json.loads(data_str)\n",
        "            table = pd.DataFrame.from_dict(data, orient='index', columns=['Answer'])\n",
        "            table.index.name = 'Question'\n",
        "            display(Markdown(f'### Image: {filename}\\n'))\n",
        "            display(Image(filename, width=200))\n",
        "            display(table)\n",
        "            break  # Exit the loop if the call succeeds\n",
        "        except Exception as e:\n",
        "            if e.code == 429:\n",
        "              # print(\"Too many requests error. Pausing for a while.\")\n",
        "              # Calculate the delay for the next retry\n",
        "              delay = initial_delay * (2 ** retry)\n",
        "              # Cap the delay at the maximum value\n",
        "              delay = min(delay, max_delay)\n",
        "              # Wait before retrying\n",
        "              # print(f\"Retrying in {delay} seconds...\")\n",
        "              time.sleep(delay)\n",
        "  else:\n",
        "    response = chat.send_message(prompt)\n",
        "    display(Markdown(f'### Resposta: {response.text}\\n\\n'))\n",
        "\n",
        "  display(Markdown(f'### Posso te ajudar em algo mais?\\n\\n'))\n",
        "  display(Markdown(f'Digite \"não\" ou \"fim\" para sair do chat.\\n'))\n",
        "  display(Markdown(f'Digite \"imagem\" para enviar um Raio-X.\\n'))\n",
        "  prompt = input('Resposta: ')"
      ],
      "metadata": {
        "id": "xXis5-f2-tVf"
      },
      "execution_count": null,
      "outputs": []
    },
    {
      "cell_type": "code",
      "execution_count": null,
      "metadata": {
        "id": "XLAniTTDhHNW",
        "cellView": "form"
      },
      "outputs": [],
      "source": [
        "# @title\n",
        "# Visualizando o chat:\n",
        "#chat\n",
        "#chat.history"
      ]
    },
    {
      "cell_type": "code",
      "execution_count": null,
      "metadata": {
        "id": "dAcbPBocgzeX",
        "cellView": "form"
      },
      "outputs": [],
      "source": [
        "# @title\n",
        "#Melhorando a visualização\n",
        "#Código disponível em https://ai.google.dev/tutorials/python_quickstart#import_packages\n",
        "import textwrap\n",
        "from IPython.display import display\n",
        "from IPython.display import Markdown\n",
        "\n",
        "def to_markdown(text):\n",
        "  text = text.replace('•', '  *')\n",
        "  return Markdown(textwrap.indent(text, '> ', predicate=lambda _: True))\n",
        "\n",
        "#Imprimindo o histórico\n",
        "for message in chat.history:\n",
        "  display(to_markdown(f'**{message.role}**: {message.parts[0].text}'))\n",
        "  print('-------------------------------------------')"
      ]
    }
  ]
}